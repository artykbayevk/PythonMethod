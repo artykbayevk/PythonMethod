{
 "cells": [
  {
   "cell_type": "markdown",
   "metadata": {},
   "source": [
    "# Вывод"
   ]
  },
  {
   "cell_type": "code",
   "execution_count": 1,
   "metadata": {},
   "outputs": [
    {
     "name": "stdout",
     "output_type": "stream",
     "text": [
      "Hello world!!\n"
     ]
    }
   ],
   "source": [
    "print(\"Hello world!!\")"
   ]
  },
  {
   "cell_type": "markdown",
   "metadata": {},
   "source": [
    "# Вызов функции"
   ]
  },
  {
   "cell_type": "code",
   "execution_count": 2,
   "metadata": {},
   "outputs": [
    {
     "name": "stdout",
     "output_type": "stream",
     "text": [
      "Hello,  John\n"
     ]
    }
   ],
   "source": [
    "print(\"Hello, \", \"John\")"
   ]
  },
  {
   "cell_type": "markdown",
   "metadata": {},
   "source": [
    "# Несколько аргументов функции"
   ]
  },
  {
   "cell_type": "code",
   "execution_count": 4,
   "metadata": {},
   "outputs": [
    {
     "name": "stdout",
     "output_type": "stream",
     "text": [
      "Hello, John\n",
      "Hello, John\n"
     ]
    }
   ],
   "source": [
    "print(\"Hello, John\")\n",
    "print(\"Hello,\", \"John\")"
   ]
  },
  {
   "cell_type": "markdown",
   "metadata": {},
   "source": [
    "# Переменные"
   ]
  },
  {
   "cell_type": "code",
   "execution_count": 5,
   "metadata": {},
   "outputs": [
    {
     "name": "stdout",
     "output_type": "stream",
     "text": [
      "Today is 10 th of September\n"
     ]
    }
   ],
   "source": [
    "dayofmonth = 10\n",
    "firstpart = \"Today is\"\n",
    "\n",
    "print(firstpart, dayofmonth, \"th of September\")"
   ]
  },
  {
   "cell_type": "markdown",
   "metadata": {},
   "source": [
    "# Строковые и численные переменные, сложение строк"
   ]
  },
  {
   "cell_type": "code",
   "execution_count": 6,
   "metadata": {},
   "outputs": [
    {
     "ename": "TypeError",
     "evalue": "can only concatenate str (not \"int\") to str",
     "output_type": "error",
     "traceback": [
      "\u001b[1;31m---------------------------------------------------------------------------\u001b[0m",
      "\u001b[1;31mTypeError\u001b[0m                                 Traceback (most recent call last)",
      "\u001b[1;32m<ipython-input-6-82363acfc262>\u001b[0m in \u001b[0;36m<module>\u001b[1;34m()\u001b[0m\n\u001b[1;32m----> 1\u001b[1;33m \u001b[0mfin\u001b[0m \u001b[1;33m=\u001b[0m \u001b[0mfirstpart\u001b[0m \u001b[1;33m+\u001b[0m \u001b[1;34m\" \"\u001b[0m \u001b[1;33m+\u001b[0m \u001b[0mdayofmonth\u001b[0m \u001b[1;33m+\u001b[0m \u001b[1;34m\"th of September\"\u001b[0m\u001b[1;33m\u001b[0m\u001b[0m\n\u001b[0m\u001b[0;32m      2\u001b[0m \u001b[1;33m\u001b[0m\u001b[0m\n\u001b[0;32m      3\u001b[0m \u001b[0mprint\u001b[0m\u001b[1;33m(\u001b[0m\u001b[0mfin\u001b[0m\u001b[1;33m)\u001b[0m\u001b[1;33m\u001b[0m\u001b[0m\n",
      "\u001b[1;31mTypeError\u001b[0m: can only concatenate str (not \"int\") to str"
     ]
    }
   ],
   "source": [
    "fin = firstpart + \" \" + dayofmonth + \"th of September\"\n",
    "\n",
    "print(fin)"
   ]
  },
  {
   "cell_type": "code",
   "execution_count": 7,
   "metadata": {},
   "outputs": [
    {
     "name": "stdout",
     "output_type": "stream",
     "text": [
      "Today is 10th of September\n"
     ]
    }
   ],
   "source": [
    "dayofmonth = str(dayofmonth)\n",
    "fin = firstpart + \" \" + dayofmonth + \"th of September\"\n",
    "\n",
    "print(fin)"
   ]
  },
  {
   "cell_type": "code",
   "execution_count": 8,
   "metadata": {},
   "outputs": [
    {
     "name": "stdout",
     "output_type": "stream",
     "text": [
      "Today is 10th of September\n"
     ]
    }
   ],
   "source": [
    "dayofmonth = 10\n",
    "fin = firstpart + \" \" + str(dayofmonth) + \"th of September\"\n",
    "\n",
    "print(fin)"
   ]
  },
  {
   "cell_type": "markdown",
   "metadata": {},
   "source": [
    "# Другие операции над переменными "
   ]
  },
  {
   "cell_type": "code",
   "execution_count": 9,
   "metadata": {},
   "outputs": [
    {
     "name": "stdout",
     "output_type": "stream",
     "text": [
      "52\n"
     ]
    }
   ],
   "source": [
    "firstarg = \"5\"\n",
    "secondarg = '2'\n",
    "\n",
    "\n",
    "result = firstarg + secondarg\n",
    "\n",
    "print(result)"
   ]
  },
  {
   "cell_type": "code",
   "execution_count": 10,
   "metadata": {},
   "outputs": [
    {
     "name": "stdout",
     "output_type": "stream",
     "text": [
      "7\n"
     ]
    }
   ],
   "source": [
    "result = int(firstarg) + int(secondarg)\n",
    "\n",
    "print(result)"
   ]
  },
  {
   "cell_type": "markdown",
   "metadata": {},
   "source": [
    "# Ввод данных"
   ]
  },
  {
   "cell_type": "code",
   "execution_count": null,
   "metadata": {},
   "outputs": [],
   "source": [
    "userdata = input('type your name ')\n",
    "\n",
    "print('your name is ' + userdata)"
   ]
  },
  {
   "cell_type": "markdown",
   "metadata": {},
   "source": [
    "# Операторы сравнения"
   ]
  },
  {
   "cell_type": "code",
   "execution_count": 5,
   "metadata": {},
   "outputs": [
    {
     "name": "stdout",
     "output_type": "stream",
     "text": [
      "10 10\n",
      "x equal to y: True\n",
      "x not equal to y: False\n"
     ]
    }
   ],
   "source": [
    "x = 10\n",
    "\n",
    "y = x\n",
    "\n",
    "print(x, y)\n",
    "\n",
    "# This is comment \n",
    "# we can write free text in here\n",
    "\n",
    "print(x == y) # x equal to y\n",
    "print(x != y) # x not equal to y"
   ]
  },
  {
   "cell_type": "code",
   "execution_count": 1,
   "metadata": {},
   "outputs": [
    {
     "name": "stdout",
     "output_type": "stream",
     "text": [
      "True\n",
      "False\n",
      "True\n",
      "False\n",
      "True\n",
      "True\n",
      "False\n"
     ]
    }
   ],
   "source": [
    "print(10 == 10)\n",
    "print(10 > 10)\n",
    "print(10 >= 10)\n",
    "print(21 < 10)\n",
    "print(21 <= 100)\n",
    "print(21 != 100)\n",
    "print(21 != 21)"
   ]
  },
  {
   "cell_type": "markdown",
   "metadata": {},
   "source": [
    "# Логические выражения"
   ]
  },
  {
   "cell_type": "code",
   "execution_count": 14,
   "metadata": {},
   "outputs": [
    {
     "name": "stdout",
     "output_type": "stream",
     "text": [
      "x =  6\n",
      "y =  200\n",
      "x > 5: True\n",
      "(x > 10) and (y <400): False\n",
      "(x > 10) or (y <400): True\n",
      "((x > 10) or (y <400)) and (x == 5): False\n"
     ]
    }
   ],
   "source": [
    "x = 6\n",
    "y = 200\n",
    "\n",
    "print(\"x = \", x)\n",
    "print(\"y = \", y)\n",
    "\n",
    "print('x > 5: ', end='')\n",
    "print(x > 5)\n",
    "\n",
    "print('(x > 10) and (y <400): ', end='')\n",
    "print((x > 10) and (y <400))\n",
    "\n",
    "print('(x > 10) or (y <400): ', end='')\n",
    "print((x > 10) or (y <400))\n",
    "\n",
    "print('((x > 10) or (y <400)) and (x == 5): ', end='')\n",
    "print(((x > 10) or (y <400)) and (x == 5))\n"
   ]
  },
  {
   "cell_type": "markdown",
   "metadata": {},
   "source": [
    "# Оператор ветвления if ... elif ... else ..."
   ]
  },
  {
   "cell_type": "code",
   "execution_count": 15,
   "metadata": {},
   "outputs": [
    {
     "name": "stdout",
     "output_type": "stream",
     "text": [
      "equal 12\n",
      "end of program!\n"
     ]
    }
   ],
   "source": [
    "param = 12\n",
    "if param == 10:\n",
    "    print(\"equal 10\")\n",
    "elif param == 11:\n",
    "    print(\"equal 11\")\n",
    "elif param == 12:\n",
    "    print(\"equal 12\")\n",
    "elif param == 13:\n",
    "    print('equal 13')\n",
    "else:\n",
    "    print(\"not equal 10 or 11 or 12 or 13\")\n",
    "    \n",
    "print(\"end of program!\")"
   ]
  },
  {
   "cell_type": "markdown",
   "metadata": {},
   "source": [
    "# range function\n",
    "gives a list of integers in a given range"
   ]
  },
  {
   "cell_type": "code",
   "execution_count": 17,
   "metadata": {},
   "outputs": [
    {
     "data": {
      "text/plain": [
       "[0, 1, 2, 3, 4, 5, 6, 7, 8, 9]"
      ]
     },
     "execution_count": 17,
     "metadata": {},
     "output_type": "execute_result"
    }
   ],
   "source": [
    "list(range(0,10))"
   ]
  },
  {
   "cell_type": "code",
   "execution_count": 18,
   "metadata": {},
   "outputs": [
    {
     "data": {
      "text/plain": [
       "[5, 6, 7]"
      ]
     },
     "execution_count": 18,
     "metadata": {},
     "output_type": "execute_result"
    }
   ],
   "source": [
    "list(range(5, 8))"
   ]
  },
  {
   "cell_type": "markdown",
   "metadata": {},
   "source": [
    "# For loop"
   ]
  },
  {
   "cell_type": "code",
   "execution_count": 19,
   "metadata": {},
   "outputs": [
    {
     "name": "stdout",
     "output_type": "stream",
     "text": [
      "0\n",
      "1\n",
      "2\n",
      "3\n",
      "4\n",
      "5\n",
      "6\n",
      "7\n",
      "8\n",
      "9\n"
     ]
    }
   ],
   "source": [
    "for item in range(0, 10):\n",
    "    print(item)"
   ]
  },
  {
   "cell_type": "code",
   "execution_count": 23,
   "metadata": {},
   "outputs": [
    {
     "name": "stdout",
     "output_type": "stream",
     "text": [
      "****inside for 0\n",
      "****inside for 1\n",
      "****inside for 4\n",
      "****inside for 9\n",
      "****inside for 16\n",
      "****inside for 25\n",
      "****inside for 36\n",
      "****inside for 49\n",
      "****inside for 64\n",
      "****inside for 81\n",
      "outside for 81\n"
     ]
    }
   ],
   "source": [
    "for myitem in range(0, 10):\n",
    "    item_sq = myitem*myitem\n",
    "    print('****inside for', item_sq)\n",
    "print('outside for', item_sq)"
   ]
  },
  {
   "cell_type": "code",
   "execution_count": 24,
   "metadata": {},
   "outputs": [
    {
     "name": "stdout",
     "output_type": "stream",
     "text": [
      "1 1\n",
      "2 3\n",
      "3 6\n",
      "4 10\n",
      "5 15\n",
      "6 21\n",
      "7 28\n",
      "8 36\n",
      "9 45\n",
      "10 55\n",
      "answer is  55\n"
     ]
    }
   ],
   "source": [
    "# calculate summ of all the elements in range 0:10\n",
    "\n",
    "myaccum = 0\n",
    "for myitem in range(1,11):\n",
    "    myaccum = myaccum + myitem\n",
    "    print(myitem, myaccum)\n",
    "\n",
    "print('answer is ', myaccum)\n"
   ]
  },
  {
   "cell_type": "markdown",
   "metadata": {},
   "source": [
    "# Lists"
   ]
  },
  {
   "cell_type": "code",
   "execution_count": 5,
   "metadata": {},
   "outputs": [
    {
     "name": "stdout",
     "output_type": "stream",
     "text": [
      "[]\n",
      "[100, 2, 30, 24]\n",
      "['one', 2, 33, 'five']\n"
     ]
    }
   ],
   "source": [
    "# empty lists\n",
    "my_first_list = []\n",
    "\n",
    "# list or integers\n",
    "my_list = [100,2,30,24]\n",
    "\n",
    "# misc list\n",
    "my_misc_list = ['one', 2, 33, 'five']\n",
    "\n",
    "print(my_first_list)\n",
    "print(my_list)\n",
    "print(my_misc_list)"
   ]
  },
  {
   "cell_type": "code",
   "execution_count": 8,
   "metadata": {},
   "outputs": [
    {
     "name": "stdout",
     "output_type": "stream",
     "text": [
      "['one', 2, [3, 34]]\n",
      "list length is:  3\n"
     ]
    }
   ],
   "source": [
    "# list in list\n",
    "list_in_list = ['one', 2, [3,34]]\n",
    "\n",
    "print(list_in_list)\n",
    "\n",
    "list_len = len(list_in_list)\n",
    "\n",
    "print('list length is: ', list_len)"
   ]
  },
  {
   "cell_type": "markdown",
   "metadata": {},
   "source": [
    "## Accessing values"
   ]
  },
  {
   "cell_type": "code",
   "execution_count": 15,
   "metadata": {},
   "outputs": [
    {
     "name": "stdout",
     "output_type": "stream",
     "text": [
      "one\n",
      "[3, 34]\n",
      "3\n"
     ]
    }
   ],
   "source": [
    "list_in_list = ['one', 2, [3,34]]\n",
    "\n",
    "print(list_in_list[0])\n",
    "print(list_in_list[2])\n",
    "print(list_in_list[2][0])"
   ]
  },
  {
   "cell_type": "markdown",
   "metadata": {},
   "source": [
    "## Assigning value"
   ]
  },
  {
   "cell_type": "code",
   "execution_count": 16,
   "metadata": {},
   "outputs": [
    {
     "name": "stdout",
     "output_type": "stream",
     "text": [
      "['one', 'two', [3, 34]]\n"
     ]
    }
   ],
   "source": [
    "list_in_list = ['one', 2, [3,34]]\n",
    "\n",
    "list_in_list[1] = 'two'\n",
    "\n",
    "print(list_in_list)"
   ]
  },
  {
   "cell_type": "code",
   "execution_count": 23,
   "metadata": {},
   "outputs": [
    {
     "name": "stdout",
     "output_type": "stream",
     "text": [
      "['one', 'two', [3, 5.830951894845301]]\n"
     ]
    }
   ],
   "source": [
    "list_in_list = ['one', 2, [3,34]]\n",
    "\n",
    "list_in_list[2][1]=list_in_list[2][1]**(1/2)\n",
    "list_in_list[1] = 'two'\n",
    "\n",
    "print(list_in_list)"
   ]
  },
  {
   "cell_type": "markdown",
   "metadata": {},
   "source": [
    "# Checking if item exists in list"
   ]
  },
  {
   "cell_type": "code",
   "execution_count": 29,
   "metadata": {},
   "outputs": [
    {
     "name": "stdout",
     "output_type": "stream",
     "text": [
      "True\n",
      "True\n",
      "False\n",
      "True\n"
     ]
    }
   ],
   "source": [
    "list_in_list = ['one', 2, [3,34]]\n",
    "\n",
    "print('one' in list_in_list)\n",
    "\n",
    "print('five' not in list_in_list)\n",
    "\n",
    "print(2 not in list_in_list)\n",
    "print('2' not in list_in_list)"
   ]
  },
  {
   "cell_type": "markdown",
   "metadata": {},
   "source": [
    "# Mutable"
   ]
  },
  {
   "cell_type": "code",
   "execution_count": 32,
   "metadata": {},
   "outputs": [
    {
     "name": "stdout",
     "output_type": "stream",
     "text": [
      "[2, 555, 1]\n",
      "[2, 555, 1]\n"
     ]
    }
   ],
   "source": [
    "original = [2,5,1]\n",
    "modified = original\n",
    "modified[1] = 555\n",
    "print(modified)\n",
    "print(original)"
   ]
  },
  {
   "cell_type": "code",
   "execution_count": 33,
   "metadata": {},
   "outputs": [
    {
     "name": "stdout",
     "output_type": "stream",
     "text": [
      "[2, 555, 1]\n",
      "[2, 5, 1]\n"
     ]
    }
   ],
   "source": [
    "original = [2,5,1]\n",
    "modified = list(original)\n",
    "modified[1] = 555\n",
    "print(modified)\n",
    "print(original)"
   ]
  },
  {
   "cell_type": "markdown",
   "metadata": {},
   "source": [
    "# list.append()"
   ]
  },
  {
   "cell_type": "code",
   "execution_count": 36,
   "metadata": {},
   "outputs": [
    {
     "name": "stdout",
     "output_type": "stream",
     "text": [
      "['one', 2, 'three', 4]\n",
      "['one', 2, 'three', 4, 'five']\n",
      "['one', 2, 'three', 4, 'five', [1, 2, 3, 4, 5, 6]]\n"
     ]
    }
   ],
   "source": [
    "my_list = ['one' ,2, 'three', 4]\n",
    "\n",
    "print(my_list)\n",
    "my_list.append('five')\n",
    "print(my_list)\n",
    "my_list.append([1,2,3,4,5,6])\n",
    "\n",
    "print(my_list)"
   ]
  },
  {
   "cell_type": "markdown",
   "metadata": {},
   "source": [
    "# list.remove()"
   ]
  },
  {
   "cell_type": "code",
   "execution_count": 41,
   "metadata": {},
   "outputs": [
    {
     "name": "stdout",
     "output_type": "stream",
     "text": [
      "['one', 2, 'three', 4, 'three']\n",
      "['one', 2, 4, 'three']\n",
      "['one', 2, 4]\n"
     ]
    }
   ],
   "source": [
    "my_list = ['one' ,2, 'three', 4, 'three']\n",
    "\n",
    "print(my_list)\n",
    "my_list.remove('three')\n",
    "print(my_list)\n",
    "my_list.remove('three')\n",
    "print(my_list)"
   ]
  },
  {
   "cell_type": "markdown",
   "metadata": {},
   "source": [
    "# del list[index]"
   ]
  },
  {
   "cell_type": "code",
   "execution_count": 40,
   "metadata": {},
   "outputs": [
    {
     "name": "stdout",
     "output_type": "stream",
     "text": [
      "['one', 2, 'three', 4, 'three']\n",
      "[2, 'three', 4, 'three']\n"
     ]
    }
   ],
   "source": [
    "my_list = ['one' ,2, 'three', 4, 'three']\n",
    "print(my_list)\n",
    "del my_list[0]\n",
    "print(my_list)"
   ]
  },
  {
   "cell_type": "code",
   "execution_count": null,
   "metadata": {
    "collapsed": true
   },
   "outputs": [],
   "source": [
    "# create empty list\n",
    "\n",
    "\n",
    "# use append to add items\n",
    "\n"
   ]
  },
  {
   "cell_type": "code",
   "execution_count": null,
   "metadata": {
    "collapsed": true
   },
   "outputs": [],
   "source": [
    "assert my_result == ['My', 'name', 'is', 'John']"
   ]
  },
  {
   "cell_type": "markdown",
   "metadata": {},
   "source": [
    "# list.sort()"
   ]
  },
  {
   "cell_type": "code",
   "execution_count": 6,
   "metadata": {},
   "outputs": [
    {
     "name": "stdout",
     "output_type": "stream",
     "text": [
      "[23, 3, 55, 10, 27, 100]\n",
      "[3, 10, 23, 27, 55, 100]\n",
      "[100, 55, 27, 23, 10, 3]\n"
     ]
    }
   ],
   "source": [
    "mylist  = [23,3,55,10,27,100]\n",
    "print(mylist)\n",
    "mylist.sort()\n",
    "print(mylist)\n",
    "mylist.sort(reverse = True)\n",
    "print(mylist)"
   ]
  },
  {
   "cell_type": "markdown",
   "metadata": {},
   "source": [
    "# sorted(list)"
   ]
  },
  {
   "cell_type": "code",
   "execution_count": 2,
   "metadata": {},
   "outputs": [
    {
     "name": "stdout",
     "output_type": "stream",
     "text": [
      "[23, 3, 55, 10, 27, 100]\n",
      "[23, 3, 55, 10, 27, 100]\n",
      "[3, 10, 23, 27, 55, 100]\n"
     ]
    }
   ],
   "source": [
    "myoriginal = [23,3,55,10,27,100]\n",
    "print(myoriginal)\n",
    "mysorted = sorted(myoriginal)\n",
    "print(myoriginal)\n",
    "print(mysorted)"
   ]
  },
  {
   "cell_type": "markdown",
   "metadata": {},
   "source": [
    "# list.extend()"
   ]
  },
  {
   "cell_type": "code",
   "execution_count": 7,
   "metadata": {},
   "outputs": [
    {
     "name": "stdout",
     "output_type": "stream",
     "text": [
      "[1, 3, 10, 90, 30, 50]\n"
     ]
    }
   ],
   "source": [
    "first_list = [1,3,10]\n",
    "second_list = [90,30,50]\n",
    "first_list.extend(second_list)\n",
    "print(first_list)"
   ]
  },
  {
   "cell_type": "code",
   "execution_count": 9,
   "metadata": {},
   "outputs": [
    {
     "name": "stdout",
     "output_type": "stream",
     "text": [
      "[1, 3, 10]\n",
      "[90, 30, 50]\n",
      "[1, 3, 10, 90, 30, 50]\n",
      "[1, 3, 10, 90, 30, 50]\n",
      "[90, 30, 50]\n"
     ]
    }
   ],
   "source": [
    "first_list = [1,3,10]\n",
    "second_list = [90,30,50]\n",
    "\n",
    "third_list = first_list + second_list\n",
    "\n",
    "print(first_list)\n",
    "print(second_list)\n",
    "print(third_list)\n",
    "\n",
    "first_list = first_list + second_list\n",
    "print(first_list)\n",
    "print(second_list)"
   ]
  },
  {
   "cell_type": "code",
   "execution_count": 18,
   "metadata": {},
   "outputs": [
    {
     "name": "stdout",
     "output_type": "stream",
     "text": [
      "[1, 3, 10, 90, 30, 50, 10]\n"
     ]
    }
   ],
   "source": [
    "first_list = [1,3,10]\n",
    "second_list = [90,30,50]\n",
    "\n",
    "third_list = first_list + second_list\n",
    "\n",
    "third_list.append(10)\n",
    "\n",
    "print(third_list)"
   ]
  },
  {
   "cell_type": "code",
   "execution_count": 17,
   "metadata": {},
   "outputs": [
    {
     "name": "stdout",
     "output_type": "stream",
     "text": [
      "ABCDEFGHxyz\n"
     ]
    }
   ],
   "source": [
    "text = \"ABCDefGH\"\n",
    "result = text.upper()+'xYz'.lower()\n",
    "print(result)"
   ]
  },
  {
   "cell_type": "markdown",
   "metadata": {},
   "source": [
    "# str.format()"
   ]
  },
  {
   "cell_type": "code",
   "execution_count": 27,
   "metadata": {},
   "outputs": [
    {
     "name": "stdout",
     "output_type": "stream",
     "text": [
      "Hello John, you are 20 years old!\n",
      "Hello John, you are 20 years old!\n",
      "Hello John. John, you are 20 years old!\n"
     ]
    }
   ],
   "source": [
    "name = 'John'\n",
    "age = 20\n",
    "greet = 'Hello ' + name + ', you are ' + str(age) + ' years old!'\n",
    "print(greet)\n",
    "\n",
    "greet2 = 'Hello {}, you are {} years old!'.format(name, age)\n",
    "print(greet2)\n",
    "\n",
    "greet2 = 'Hello {mynamearg}. {mynamearg}, you are {myagearg} years old!'\\\n",
    "    .format(mynamearg = name, myagearg = age)\n",
    "print(greet2)"
   ]
  },
  {
   "cell_type": "markdown",
   "metadata": {},
   "source": [
    "# for loop"
   ]
  },
  {
   "cell_type": "code",
   "execution_count": 6,
   "metadata": {},
   "outputs": [
    {
     "name": "stdout",
     "output_type": "stream",
     "text": [
      "100\n",
      "110\n",
      "120\n",
      "13\n",
      "14\n"
     ]
    }
   ],
   "source": [
    "myints = [100,110,120,13,14]\n",
    "for i in myints:\n",
    "    print(i)"
   ]
  },
  {
   "cell_type": "code",
   "execution_count": 4,
   "metadata": {},
   "outputs": [
    {
     "name": "stdout",
     "output_type": "stream",
     "text": [
      "0\n",
      "1\n",
      "2\n",
      "3\n",
      "4\n"
     ]
    }
   ],
   "source": [
    "for i in range(0,5):\n",
    "    print(i)"
   ]
  },
  {
   "cell_type": "code",
   "execution_count": 7,
   "metadata": {},
   "outputs": [
    {
     "name": "stdout",
     "output_type": "stream",
     "text": [
      "John\n",
      "Bill\n",
      "Carol\n",
      "Roman\n"
     ]
    }
   ],
   "source": [
    "my_list = ['John', 'Bill', 'Carol', 'Roman']\n",
    "for item in my_list:\n",
    "    print(item)"
   ]
  },
  {
   "cell_type": "markdown",
   "metadata": {},
   "source": [
    "## break and continue"
   ]
  },
  {
   "cell_type": "code",
   "execution_count": 13,
   "metadata": {},
   "outputs": [
    {
     "name": "stdout",
     "output_type": "stream",
     "text": [
      "10\n",
      "100\n",
      "11\n",
      "121\n",
      "12\n",
      "144\n",
      "13\n",
      "14\n",
      "196\n",
      "15\n",
      "16\n",
      "256\n",
      "17\n",
      "289\n",
      "18\n",
      "324\n",
      "19\n",
      "361\n"
     ]
    }
   ],
   "source": [
    "for myparam in range(10,20):\n",
    "    print(myparam)\n",
    "    if myparam == 13 or myparam ==15:\n",
    "        continue\n",
    "    print(myparam ** 2)"
   ]
  },
  {
   "cell_type": "code",
   "execution_count": 14,
   "metadata": {},
   "outputs": [
    {
     "name": "stdout",
     "output_type": "stream",
     "text": [
      "10\n",
      "11\n",
      "12\n",
      "13\n",
      "14\n",
      "15\n",
      "16\n",
      "17\n",
      "18\n",
      "19\n",
      "100\n",
      "121\n",
      "144\n",
      "196\n",
      "256\n",
      "289\n",
      "324\n",
      "361\n"
     ]
    }
   ],
   "source": [
    "for myparam in range(10,20):\n",
    "    print(myparam)\n",
    "\n",
    "for myparam in range(10,20):\n",
    "    if myparam == 13 or myparam ==15:\n",
    "        continue\n",
    "    print(myparam ** 2)"
   ]
  },
  {
   "cell_type": "code",
   "execution_count": 15,
   "metadata": {},
   "outputs": [
    {
     "name": "stdout",
     "output_type": "stream",
     "text": [
      "10 100\n",
      "11 121\n",
      "12 144\n",
      "14 196\n",
      "16 256\n",
      "17 289\n",
      "18 324\n",
      "19 361\n"
     ]
    }
   ],
   "source": [
    "for myparam in range(10,20):\n",
    "    if myparam == 13 or myparam ==15:\n",
    "        continue\n",
    "    print(myparam, myparam ** 2)"
   ]
  },
  {
   "cell_type": "code",
   "execution_count": 17,
   "metadata": {},
   "outputs": [
    {
     "name": "stdout",
     "output_type": "stream",
     "text": [
      "10\n",
      "11\n",
      "12\n",
      "13\n",
      "14\n",
      "15\n",
      "16\n",
      "17\n",
      "18\n",
      "19\n"
     ]
    }
   ],
   "source": [
    "my_list = range(10,20)\n",
    "for mycurindex in my_list:\n",
    "    print(mycurindex)\n",
    "    if mycurindex == 13:\n",
    "        continue\n",
    "    if mycurindex == 21:\n",
    "        break\n"
   ]
  },
  {
   "cell_type": "code",
   "execution_count": 23,
   "metadata": {},
   "outputs": [
    {
     "name": "stdout",
     "output_type": "stream",
     "text": [
      "Carol\n",
      "Welcome Bill\n"
     ]
    }
   ],
   "source": [
    "names = ['Carol', 'Bill', 'Teodor', 'Roosvelt']\n",
    "\n",
    "for nn in names:\n",
    "    if nn == 'Teodor':\n",
    "        continue\n",
    "    \n",
    "    if nn == 'Bill':\n",
    "        print('Welcome Bill')\n",
    "        continue\n",
    "\n",
    "    print(nn)"
   ]
  },
  {
   "cell_type": "markdown",
   "metadata": {},
   "source": [
    "# lists and tuples"
   ]
  },
  {
   "cell_type": "code",
   "execution_count": 8,
   "metadata": {},
   "outputs": [
    {
     "name": "stdout",
     "output_type": "stream",
     "text": [
      "23\n"
     ]
    },
    {
     "data": {
      "text/plain": [
       "[100, 1, 0, 2, 23]"
      ]
     },
     "execution_count": 8,
     "metadata": {},
     "output_type": "execute_result"
    }
   ],
   "source": [
    "# lists\n",
    "my_list = [1,5,2]\n",
    "\n",
    "my_list.append(23)\n",
    "\n",
    "my_list.insert(0, 100)\n",
    "\n",
    "my_list[2] = 0\n",
    "\n",
    "print(my_list[4])\n",
    "\n",
    "my_list"
   ]
  },
  {
   "cell_type": "code",
   "execution_count": 14,
   "metadata": {},
   "outputs": [
    {
     "name": "stdout",
     "output_type": "stream",
     "text": [
      "22\n"
     ]
    },
    {
     "data": {
      "text/plain": [
       "(45, 22, 66)"
      ]
     },
     "execution_count": 14,
     "metadata": {},
     "output_type": "execute_result"
    }
   ],
   "source": [
    "# tuple\n",
    "my_tuple = (45, 22, 66)\n",
    "\n",
    "print(my_tuple[1])\n",
    "\n",
    "# my_tuple[1] = 11\n",
    "# my_tuple.append(99)\n",
    "my_tuple"
   ]
  },
  {
   "cell_type": "markdown",
   "metadata": {},
   "source": [
    "# Dictionaries \n",
    "Collections of `key`-`value` pairs. "
   ]
  },
  {
   "cell_type": "code",
   "execution_count": 15,
   "metadata": {},
   "outputs": [
    {
     "data": {
      "text/plain": [
       "{}"
      ]
     },
     "execution_count": 15,
     "metadata": {},
     "output_type": "execute_result"
    }
   ],
   "source": [
    "my_empty_dict = {}\n",
    "\n",
    "my_empty_dict"
   ]
  },
  {
   "cell_type": "code",
   "execution_count": 25,
   "metadata": {},
   "outputs": [
    {
     "name": "stdout",
     "output_type": "stream",
     "text": [
      "|||\n"
     ]
    },
    {
     "data": {
      "text/plain": [
       "{'one': 1, 'two': 2, 'three': '|||', 2: 'second'}"
      ]
     },
     "execution_count": 25,
     "metadata": {},
     "output_type": "execute_result"
    }
   ],
   "source": [
    "my_dict = {'one':1, 'two':2, 'three':'|||', 2:'two'}\n",
    "\n",
    "\n",
    "print(my_dict['three'])\n",
    "\n",
    "my_dict[2] = 'second'\n",
    "\n",
    "my_dict"
   ]
  },
  {
   "cell_type": "code",
   "execution_count": 34,
   "metadata": {},
   "outputs": [
    {
     "name": "stdout",
     "output_type": "stream",
     "text": [
      "keys: dict_keys(['one', 'two', 'three', 2])\n",
      "dict_values([1, 2, '|||', 'second'])\n"
     ]
    },
    {
     "data": {
      "text/plain": [
       "'|||'"
      ]
     },
     "execution_count": 34,
     "metadata": {},
     "output_type": "execute_result"
    }
   ],
   "source": [
    "print('keys: {}'.format(my_dict.keys()))\n",
    "\n",
    "print(my_dict.values())\n",
    "\n",
    "my_items = list(my_dict.items())\n",
    "\n",
    "my_items[2][1]"
   ]
  },
  {
   "cell_type": "code",
   "execution_count": 19,
   "metadata": {},
   "outputs": [
    {
     "name": "stdout",
     "output_type": "stream",
     "text": [
      "dict: {}, type: <class 'dict'>\n"
     ]
    }
   ],
   "source": [
    "my_empty_dict = {}  # alternative: my_empty_dict = dict()\n",
    "print('dict: {}, type: {}'.format(my_empty_dict, type(my_empty_dict)))"
   ]
  },
  {
   "cell_type": "markdown",
   "metadata": {},
   "source": [
    "## Initialization"
   ]
  },
  {
   "cell_type": "code",
   "execution_count": 26,
   "metadata": {},
   "outputs": [
    {
     "name": "stdout",
     "output_type": "stream",
     "text": [
      "{'value1': 1.6, 'value2': 10, 'name': 'John Doe'}\n",
      "{'value1': 1.6, 'value2': 10, 'name': 'John Doe'}\n",
      "equal: True\n",
      "length: 3\n"
     ]
    }
   ],
   "source": [
    "dict1 = {'value1': 1.6, 'value2': 10, 'name': 'John Doe'}\n",
    "dict2 = dict(value1=1.6, value2=10, name='John Doe')\n",
    "\n",
    "print(dict1)\n",
    "print(dict2)\n",
    "\n",
    "print('equal: {}'.format(dict1 == dict2))\n",
    "print('length: {}'.format(len(dict1)))"
   ]
  },
  {
   "cell_type": "markdown",
   "metadata": {},
   "source": [
    "## `dict.keys(), dict.values(), dict.items()`"
   ]
  },
  {
   "cell_type": "code",
   "execution_count": 27,
   "metadata": {},
   "outputs": [
    {
     "name": "stdout",
     "output_type": "stream",
     "text": [
      "keys: dict_keys(['value1', 'value2', 'name'])\n",
      "values: dict_values([1.6, 10, 'John Doe'])\n",
      "items: dict_items([('value1', 1.6), ('value2', 10), ('name', 'John Doe')])\n"
     ]
    }
   ],
   "source": [
    "print('keys: {}'.format(dict1.keys()))\n",
    "print('values: {}'.format(dict1.values()))\n",
    "print('items: {}'.format(dict1.items()))"
   ]
  },
  {
   "cell_type": "markdown",
   "metadata": {},
   "source": [
    "## Accessing and setting values"
   ]
  },
  {
   "cell_type": "code",
   "execution_count": 36,
   "metadata": {},
   "outputs": [
    {
     "name": "stdout",
     "output_type": "stream",
     "text": [
      "{'key1': 'new value', 'key2': 99}\n",
      "value of key1: new value\n"
     ]
    }
   ],
   "source": [
    "my_dict = {}\n",
    "print(my_dict['rrr'])\n",
    "my_dict['key1'] = 'value1'\n",
    "my_dict['key2'] = 99\n",
    "my_dict['key1'] = 'new value'  # overriding existing value\n",
    "print(my_dict)\n",
    "print('value of key1: {}'.format(my_dict['key1']))"
   ]
  },
  {
   "cell_type": "markdown",
   "metadata": {},
   "source": [
    "Accessing a nonexistent key will raise `KeyError` (see [`dict.get()`](#dict_get) for workaround):"
   ]
  },
  {
   "cell_type": "code",
   "execution_count": null,
   "metadata": {},
   "outputs": [],
   "source": [
    "# print(my_dict['nope'])"
   ]
  },
  {
   "cell_type": "markdown",
   "metadata": {},
   "source": [
    "## Deleting"
   ]
  },
  {
   "cell_type": "code",
   "execution_count": 37,
   "metadata": {},
   "outputs": [
    {
     "name": "stdout",
     "output_type": "stream",
     "text": [
      "{'key1': 'value1', 'key2': 99}\n",
      "my_key is not in {'key1': 'value1', 'key2': 99}\n"
     ]
    }
   ],
   "source": [
    "my_dict = {'key1': 'value1', 'key2': 99, 'keyX': 'valueX'}\n",
    "del my_dict['keyX']\n",
    "print(my_dict)\n",
    "\n",
    "# Usually better to make sure that the key exists (see also pop() and popitem())\n",
    "key_to_delete = 'my_key'\n",
    "if key_to_delete in my_dict:\n",
    "    del my_dict[key_to_delete]\n",
    "else:\n",
    "    print('{key} is not in {dictionary}'.format(key=key_to_delete, dictionary=my_dict))"
   ]
  },
  {
   "cell_type": "markdown",
   "metadata": {},
   "source": [
    "## Dictionaries are mutable"
   ]
  },
  {
   "cell_type": "code",
   "execution_count": 38,
   "metadata": {},
   "outputs": [
    {
     "name": "stdout",
     "output_type": "stream",
     "text": [
      "my_dict: {'ham': 'good', 'carrot': 'super tasty', 'sausage': 'best ever'}\n",
      "other: {'ham': 'good', 'carrot': 'super tasty', 'sausage': 'best ever'}\n",
      "equal: True\n"
     ]
    }
   ],
   "source": [
    "my_dict = {'ham': 'good', 'carrot': 'semi good'}\n",
    "my_other_dict = my_dict\n",
    "my_other_dict['carrot'] = 'super tasty'\n",
    "my_other_dict['sausage'] = 'best ever'\n",
    "print('my_dict: {}\\nother: {}'.format(my_dict, my_other_dict))\n",
    "print('equal: {}'.format(my_dict == my_other_dict))"
   ]
  },
  {
   "cell_type": "markdown",
   "metadata": {},
   "source": [
    "Create a new `dict` if you want to have a copy:"
   ]
  },
  {
   "cell_type": "code",
   "execution_count": null,
   "metadata": {},
   "outputs": [],
   "source": [
    "my_dict = {'ham': 'good', 'carrot': 'semi good'}\n",
    "my_other_dict = dict(my_dict)\n",
    "my_other_dict['beer'] = 'decent'\n",
    "print('my_dict: {}\\nother: {}'.format(my_dict, my_other_dict))\n",
    "print('equal: {}'.format(my_dict == my_other_dict))"
   ]
  },
  {
   "cell_type": "markdown",
   "metadata": {},
   "source": [
    "<a id='dict_get'></a>\n",
    "## `dict.get()`\n",
    "Returns `None` if `key` is not in `dict`. However, you can also specify `default` return value which will be returned if `key` is not present in the `dict`. "
   ]
  },
  {
   "cell_type": "code",
   "execution_count": null,
   "metadata": {},
   "outputs": [],
   "source": [
    "my_dict = {'a': 1, 'b': 2, 'c': 3}\n",
    "d = my_dict.get('d')\n",
    "print('d: {}'.format(d))\n",
    "\n",
    "d = my_dict.get('d', 'my default value')\n",
    "print('d: {}'.format(d))"
   ]
  },
  {
   "cell_type": "markdown",
   "metadata": {},
   "source": [
    "## `dict.pop()`"
   ]
  },
  {
   "cell_type": "code",
   "execution_count": 39,
   "metadata": {},
   "outputs": [
    {
     "name": "stdout",
     "output_type": "stream",
     "text": [
      "dict before pops: {'food': 'ham', 'drink': 'beer', 'sport': 'football'}\n",
      "food: ham\n",
      "dict after popping food: {'drink': 'beer', 'sport': 'football'}\n",
      "food again: default value for food\n",
      "dict after popping food again: {'drink': 'beer', 'sport': 'football'}\n"
     ]
    }
   ],
   "source": [
    "my_dict = dict(food='ham', drink='beer', sport='football')\n",
    "print('dict before pops: {}'.format(my_dict))\n",
    "\n",
    "food = my_dict.pop('food')\n",
    "print('food: {}'.format(food))\n",
    "print('dict after popping food: {}'.format(my_dict))\n",
    "\n",
    "food_again = my_dict.pop('food', 'default value for food')\n",
    "print('food again: {}'.format(food_again))\n",
    "print('dict after popping food again: {}'.format(my_dict))\n"
   ]
  },
  {
   "cell_type": "markdown",
   "metadata": {},
   "source": [
    "## `dict.setdefault()`\n",
    "Returns the `value` of `key` defined as first parameter. If the `key` is not present in the dict, adds `key` with default value (second parameter)."
   ]
  },
  {
   "cell_type": "code",
   "execution_count": null,
   "metadata": {},
   "outputs": [],
   "source": [
    "my_dict = {'a': 1, 'b': 2, 'c': 3}\n",
    "a = my_dict.setdefault('a', 'my default value')\n",
    "d = my_dict.setdefault('d', 'my default value')\n",
    "print('a: {}\\nd: {}\\nmy_dict: {}'.format(a, d, my_dict))"
   ]
  },
  {
   "cell_type": "markdown",
   "metadata": {},
   "source": [
    "## `dict.update()`\n",
    "Merge two `dict`s"
   ]
  },
  {
   "cell_type": "code",
   "execution_count": 41,
   "metadata": {},
   "outputs": [
    {
     "name": "stdout",
     "output_type": "stream",
     "text": [
      "{'a': 100, 'b': 2, 'c': 3}\n",
      "{'a': 100, 'b': 2, 'c': 4}\n"
     ]
    }
   ],
   "source": [
    "dict1 = {'a': 1, 'b': 2}\n",
    "dict2 = {'c': 3, 'a': 100}\n",
    "dict1.update(dict2)\n",
    "print(dict1)\n",
    "\n",
    "# If they have same keys:\n",
    "dict1.update({'c': 4})\n",
    "print(dict1)"
   ]
  },
  {
   "cell_type": "markdown",
   "metadata": {},
   "source": [
    "## The keys of a `dict` have to be immutable"
   ]
  },
  {
   "cell_type": "markdown",
   "metadata": {},
   "source": [
    "Thus you can not use e.g. a `list` or a `dict` as key because they are mutable types\n",
    ":"
   ]
  },
  {
   "cell_type": "code",
   "execution_count": null,
   "metadata": {},
   "outputs": [],
   "source": [
    "# bad_dict = {['my_list'], 'value'}  # Raises TypeError"
   ]
  },
  {
   "cell_type": "markdown",
   "metadata": {},
   "source": [
    "Values can be mutable"
   ]
  },
  {
   "cell_type": "code",
   "execution_count": null,
   "metadata": {},
   "outputs": [],
   "source": [
    "good_dict = {'my key': ['Python', 'is', 'still', 'cool']}\n",
    "print(good_dict)"
   ]
  },
  {
   "cell_type": "code",
   "execution_count": 46,
   "metadata": {},
   "outputs": [
    {
     "name": "stdout",
     "output_type": "stream",
     "text": [
      "name\n",
      "surname\n",
      "age\n",
      "phone\n",
      "John\n",
      "Smith\n",
      "23\n",
      "333333333\n",
      "name John\n",
      "surname Smith\n",
      "age 23\n",
      "phone 333333333\n",
      "name John\n",
      "surname Smith\n",
      "age 23\n",
      "phone 333333333\n"
     ]
    }
   ],
   "source": [
    "my_dict = {'name':'John', 'surname':'Smith', 'age':23, 'phone':'333333333'}\n",
    "\n",
    "for mykey in my_dict.keys():\n",
    "    print(mykey)\n",
    "    \n",
    "for val in my_dict.values():\n",
    "    print(val)\n",
    "    \n",
    "    \n",
    "for mykey in my_dict:\n",
    "    print(mykey, my_dict[mykey])\n",
    "    \n",
    "    \n",
    "for key, val in my_dict.items():\n",
    "    print(key, val)"
   ]
  },
  {
   "cell_type": "code",
   "execution_count": 50,
   "metadata": {},
   "outputs": [
    {
     "name": "stdout",
     "output_type": "stream",
     "text": [
      "polindrome\n"
     ]
    }
   ],
   "source": [
    "text = 'kayak'\n",
    "\n",
    "# [0,1,2,3,4]\n",
    "\n",
    "not_polindrome = False\n",
    "\n",
    "for i in range(0, int(len(text)/2)):\n",
    "    \n",
    "    if text[i] != text[len(text) - i - 1]:\n",
    "        not_polindrome = True\n",
    "        break\n",
    "\n",
    "if not_polindrome:\n",
    "    print('ne polindrome')\n",
    "else:\n",
    "    print('polindrome')"
   ]
  },
  {
   "cell_type": "code",
   "execution_count": 53,
   "metadata": {},
   "outputs": [
    {
     "name": "stdout",
     "output_type": "stream",
     "text": [
      "polindrome\n"
     ]
    }
   ],
   "source": [
    "text = '66kayakkayak66'\n",
    "\n",
    "count_match = 0\n",
    "\n",
    "for i in range(0, int(len(text)/2)):\n",
    "   \n",
    "    if text[i] == text[len(text) - i - 1]:\n",
    "        count_match = count_match + 1\n",
    "\n",
    "\n",
    "if count_match == int(len(text)/2):\n",
    "    print('polindrome')\n",
    "else:\n",
    "    print('ne polindrome')"
   ]
  },
  {
   "cell_type": "markdown",
   "metadata": {},
   "source": [
    "# Functions"
   ]
  },
  {
   "cell_type": "code",
   "execution_count": null,
   "metadata": {},
   "outputs": [],
   "source": [
    "def my_first_function():\n",
    "    print('Hello world!')\n",
    "\n",
    "print('type: {}'.format(my_first_function))\n",
    "\n",
    "my_first_function()  # Calling a function"
   ]
  },
  {
   "cell_type": "markdown",
   "metadata": {},
   "source": [
    "### Arguments"
   ]
  },
  {
   "cell_type": "code",
   "execution_count": null,
   "metadata": {},
   "outputs": [],
   "source": [
    "def greet_us(name1, name2):\n",
    "    print('Hello {} and {}!'.format(name1, name2))\n",
    "\n",
    "greet_us('John Doe', 'Superman')"
   ]
  },
  {
   "cell_type": "code",
   "execution_count": null,
   "metadata": {},
   "outputs": [],
   "source": [
    "# Function with return value\n",
    "def strip_and_lowercase(original):\n",
    "    modified = original.strip().lower()\n",
    "    return modified\n",
    "\n",
    "uggly_string = '  MixED CaSe '\n",
    "pretty = strip_and_lowercase(uggly_string)\n",
    "print('pretty: {}'.format(pretty))"
   ]
  },
  {
   "cell_type": "markdown",
   "metadata": {},
   "source": [
    "### Keyword arguments"
   ]
  },
  {
   "cell_type": "code",
   "execution_count": null,
   "metadata": {},
   "outputs": [],
   "source": [
    "def my_fancy_calculation(first, second, third):\n",
    "    return first + second - third \n",
    "\n",
    "\n",
    "myparam = my_fancy_calculation(3, 2, 1)\n",
    "\n",
    "\n",
    "print(my_fancy_calculation(3, 2, 1))\n",
    "\n",
    "print(my_fancy_calculation(first=3, second=2, third=1))\n",
    "\n",
    "# With keyword arguments you can mix the order\n",
    "print(my_fancy_calculation(third=1, first=3, second=2))\n",
    "\n",
    "# You can mix arguments and keyword arguments but you have to start with arguments\n",
    "print(my_fancy_calculation(3, third=1, second=2))  "
   ]
  },
  {
   "cell_type": "markdown",
   "metadata": {},
   "source": [
    "### Default arguments"
   ]
  },
  {
   "cell_type": "code",
   "execution_count": null,
   "metadata": {
    "scrolled": true
   },
   "outputs": [],
   "source": [
    "def create_person_info(name, age, job=None, salary=300):\n",
    "    info = {'name': name, 'age': age, 'salary': salary}\n",
    "    \n",
    "    # Add 'job' key only if it's provided as parameter\n",
    "    if job:  \n",
    "        info.update(dict(job=job))\n",
    "        \n",
    "    return info\n",
    "\n",
    "person1 = create_person_info('John Doe', 82)  # use default values for job and salary\n",
    "person2 = create_person_info('Lisa Doe', 22, 'hacker', 10000)\n",
    "print(person1)\n",
    "print(person2)"
   ]
  },
  {
   "cell_type": "markdown",
   "metadata": {},
   "source": [
    "***\n",
    "# Working with Excel Spreadsheets from Python\n",
    "***"
   ]
  },
  {
   "cell_type": "markdown",
   "metadata": {},
   "source": [
    "# Openpyxl"
   ]
  },
  {
   "cell_type": "code",
   "execution_count": 1,
   "metadata": {},
   "outputs": [],
   "source": [
    "import openpyxl\n",
    "from openpyxl import Workbook\n",
    "from openpyxl.compat import range\n",
    "from openpyxl.utils import get_column_letter"
   ]
  },
  {
   "cell_type": "markdown",
   "metadata": {},
   "source": [
    "### 1. Write a workbook"
   ]
  },
  {
   "cell_type": "code",
   "execution_count": 2,
   "metadata": {},
   "outputs": [],
   "source": [
    "wb = Workbook()"
   ]
  },
  {
   "cell_type": "code",
   "execution_count": 3,
   "metadata": {},
   "outputs": [],
   "source": [
    "ws1 = wb.active\n",
    "ws1.title = 'range names'"
   ]
  },
  {
   "cell_type": "code",
   "execution_count": 4,
   "metadata": {},
   "outputs": [],
   "source": [
    "for row in range(1,10):\n",
    "    ws1.append(range(100))"
   ]
  },
  {
   "cell_type": "code",
   "execution_count": 5,
   "metadata": {},
   "outputs": [],
   "source": [
    "ws2 = wb.create_sheet(title=\"Pi\")\n",
    "ws3 = wb.create_sheet(title=\"Data\")"
   ]
  },
  {
   "cell_type": "code",
   "execution_count": 6,
   "metadata": {
    "scrolled": true
   },
   "outputs": [
    {
     "name": "stderr",
     "output_type": "stream",
     "text": [
      "C:\\ProgramData\\Anaconda3\\lib\\site-packages\\ipykernel_launcher.py:1: DeprecationWarning: Call to deprecated function get_sheet_names (Use wb.sheetnames).\n",
      "  \"\"\"Entry point for launching an IPython kernel.\n"
     ]
    },
    {
     "data": {
      "text/plain": [
       "['range names', 'Pi', 'Data']"
      ]
     },
     "execution_count": 6,
     "metadata": {},
     "output_type": "execute_result"
    }
   ],
   "source": [
    "wb.get_sheet_names()"
   ]
  },
  {
   "cell_type": "code",
   "execution_count": 8,
   "metadata": {},
   "outputs": [],
   "source": [
    "import math\n",
    "ws2['A1'] = math.pi"
   ]
  },
  {
   "cell_type": "code",
   "execution_count": 14,
   "metadata": {},
   "outputs": [],
   "source": [
    "for row in range(1,20):\n",
    "    for col in range(1,27):\n",
    "        ws3.cell(column=col, row=row, value=\"{0}\".format(get_column_letter(col)) )"
   ]
  },
  {
   "cell_type": "code",
   "execution_count": 22,
   "metadata": {},
   "outputs": [
    {
     "name": "stdout",
     "output_type": "stream",
     "text": [
      "0\n",
      "3.141592653589793\n",
      "A\n"
     ]
    }
   ],
   "source": [
    "print (ws1['A1'].value)\n",
    "print (ws2['A1'].value)\n",
    "print (ws3['A1'].value)"
   ]
  },
  {
   "cell_type": "code",
   "execution_count": 23,
   "metadata": {},
   "outputs": [
    {
     "name": "stdout",
     "output_type": "stream",
     "text": [
      "<Cell 'Pi'.A1>\n",
      "3.141592653589793\n"
     ]
    }
   ],
   "source": [
    "print (ws2.cell(row = 1, column = 1))\n",
    "print (ws2.cell(row = 1, column = 1).value)"
   ]
  },
  {
   "cell_type": "markdown",
   "metadata": {},
   "source": [
    "### 2. Save the workbook"
   ]
  },
  {
   "cell_type": "code",
   "execution_count": 15,
   "metadata": {
    "scrolled": true
   },
   "outputs": [],
   "source": [
    "wb.save(filename = 'my_book.xlsx')"
   ]
  },
  {
   "cell_type": "markdown",
   "metadata": {},
   "source": [
    "### 3. Read the workbook"
   ]
  },
  {
   "cell_type": "code",
   "execution_count": 17,
   "metadata": {},
   "outputs": [],
   "source": [
    "from openpyxl import load_workbook"
   ]
  },
  {
   "cell_type": "code",
   "execution_count": 18,
   "metadata": {},
   "outputs": [
    {
     "name": "stdout",
     "output_type": "stream",
     "text": [
      "['range names', 'Pi', 'Data']\n"
     ]
    },
    {
     "name": "stderr",
     "output_type": "stream",
     "text": [
      "C:\\ProgramData\\Anaconda3\\lib\\site-packages\\ipykernel_launcher.py:2: DeprecationWarning: Call to deprecated function get_sheet_names (Use wb.sheetnames).\n",
      "  \n"
     ]
    }
   ],
   "source": [
    "wb_new = load_workbook(filename = 'my_book.xlsx')\n",
    "print(wb_new.get_sheet_names())"
   ]
  },
  {
   "cell_type": "code",
   "execution_count": 22,
   "metadata": {},
   "outputs": [
    {
     "name": "stdout",
     "output_type": "stream",
     "text": [
      "3.141592653589793\n"
     ]
    }
   ],
   "source": [
    "ws_pi = wb_new['Pi']\n",
    "print (ws_pi['A1'].value)"
   ]
  },
  {
   "cell_type": "code",
   "execution_count": 24,
   "metadata": {},
   "outputs": [],
   "source": [
    "data_sheet = wb_new['Data']"
   ]
  },
  {
   "cell_type": "code",
   "execution_count": 26,
   "metadata": {},
   "outputs": [
    {
     "name": "stdout",
     "output_type": "stream",
     "text": [
      "(<Cell 'Data'.A1>, <Cell 'Data'.A2>, <Cell 'Data'.A3>, <Cell 'Data'.A4>, <Cell 'Data'.A5>, <Cell 'Data'.A6>, <Cell 'Data'.A7>, <Cell 'Data'.A8>, <Cell 'Data'.A9>, <Cell 'Data'.A10>, <Cell 'Data'.A11>, <Cell 'Data'.A12>, <Cell 'Data'.A13>, <Cell 'Data'.A14>, <Cell 'Data'.A15>, <Cell 'Data'.A16>, <Cell 'Data'.A17>, <Cell 'Data'.A18>, <Cell 'Data'.A19>)\n"
     ]
    }
   ],
   "source": [
    "print(list(data_sheet.columns)[0])"
   ]
  },
  {
   "cell_type": "code",
   "execution_count": 12,
   "metadata": {},
   "outputs": [
    {
     "name": "stdout",
     "output_type": "stream",
     "text": [
      "{'val': 20, 'val2': 234}\n",
      "False\n"
     ]
    }
   ],
   "source": [
    "testdict = dict(val = 20, val2 = 234)\n",
    "\n",
    "print(testdict)\n",
    "\n",
    "print('val3' in testdict)\n"
   ]
  },
  {
   "cell_type": "code",
   "execution_count": 7,
   "metadata": {},
   "outputs": [
    {
     "name": "stdout",
     "output_type": "stream",
     "text": [
      "((<Cell 'range names'.A1>, <Cell 'range names'.B1>, <Cell 'range names'.C1>), (<Cell 'range names'.A2>, <Cell 'range names'.B2>, <Cell 'range names'.C2>), (<Cell 'range names'.A3>, <Cell 'range names'.B3>, <Cell 'range names'.C3>), (<Cell 'range names'.A4>, <Cell 'range names'.B4>, <Cell 'range names'.C4>))\n"
     ]
    }
   ],
   "source": [
    "range_numbers = wb_new['range names']\n",
    "cell_range = range_numbers['A1':'C4']\n",
    "print (cell_range)"
   ]
  },
  {
   "cell_type": "code",
   "execution_count": 33,
   "metadata": {},
   "outputs": [
    {
     "name": "stdout",
     "output_type": "stream",
     "text": [
      "<Cell 'range names'.A1> :  0 :  General\n",
      "<Cell 'range names'.B1> :  1 :  General\n",
      "<Cell 'range names'.C1> :  2 :  General\n",
      "<Cell 'range names'.A2> :  0 :  General\n",
      "<Cell 'range names'.B2> :  1 :  General\n",
      "<Cell 'range names'.C2> :  2 :  General\n",
      "<Cell 'range names'.A3> :  0 :  General\n",
      "<Cell 'range names'.B3> :  1 :  General\n",
      "<Cell 'range names'.C3> :  2 :  General\n",
      "<Cell 'range names'.A4> :  0 :  General\n",
      "<Cell 'range names'.B4> :  1 :  General\n",
      "<Cell 'range names'.C4> :  2 :  General\n"
     ]
    }
   ],
   "source": [
    "for row in cell_range:\n",
    "    for cell in row:\n",
    "        print (cell,': ',(cell.value), ': ', (cell.number_format))"
   ]
  },
  {
   "cell_type": "code",
   "execution_count": null,
   "metadata": {},
   "outputs": [],
   "source": []
  }
 ],
 "metadata": {
  "kernelspec": {
   "display_name": "Python 3",
   "language": "python",
   "name": "python3"
  },
  "language_info": {
   "codemirror_mode": {
    "name": "ipython",
    "version": 3
   },
   "file_extension": ".py",
   "mimetype": "text/x-python",
   "name": "python",
   "nbconvert_exporter": "python",
   "pygments_lexer": "ipython3",
   "version": "3.7.0"
  }
 },
 "nbformat": 4,
 "nbformat_minor": 2
}
