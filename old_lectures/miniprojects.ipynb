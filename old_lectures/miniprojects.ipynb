{
 "cells": [
  {
   "cell_type": "markdown",
   "metadata": {},
   "source": [
    "# Минипроект \"Интерактив\""
   ]
  },
  {
   "cell_type": "code",
   "execution_count": null,
   "metadata": {},
   "outputs": [],
   "source": [
    "name = input('What is your name?: ')\n",
    "age = input('How old are you?: ')\n",
    "\n",
    "welcome_str = 'Hello ' + name + ', you are ' + age + ' years old!'\n",
    "\n",
    "print(welcome_str)"
   ]
  },
  {
   "cell_type": "markdown",
   "metadata": {},
   "source": [
    "# Минипроект \"Сколько тебе лет\""
   ]
  },
  {
   "cell_type": "code",
   "execution_count": null,
   "metadata": {},
   "outputs": [],
   "source": [
    "age = input('How old are you?: ')\n",
    "\n",
    "age = int(age)\n",
    "\n",
    "welcome_str = ''\n",
    "\n",
    "if age > 200:\n",
    "    welcome_str = 'You are a happy person!'\n",
    "elif age > 100:\n",
    "    welcome_str = 'Work hard!'\n",
    "else:\n",
    "    welcome_str = 'Life has just began!'\n",
    "\n",
    "\n",
    "print(welcome_str)"
   ]
  },
  {
   "cell_type": "markdown",
   "metadata": {},
   "source": [
    "# Минипроект \"числовая строка\""
   ]
  },
  {
   "cell_type": "code",
   "execution_count": null,
   "metadata": {},
   "outputs": [],
   "source": [
    "# build a string with all numbers between 0 and 10\n",
    "\n",
    "endstr = ''\n",
    "for myitem in range(1, 11):\n",
    "    my_str_item = str(myitem)\n",
    "    endstr = endstr + my_str_item + ' '\n",
    "    print(endstr) # print current string each time in the loop\n",
    "    \n",
    "print('\\n\\nThis is final result:') # print once outside of the loop\n",
    "print(endstr)"
   ]
  },
  {
   "cell_type": "markdown",
   "metadata": {},
   "source": [
    "# Минипроект \"Телефонная книга\""
   ]
  },
  {
   "cell_type": "code",
   "execution_count": null,
   "metadata": {},
   "outputs": [],
   "source": [
    "# miniproject phonebook\n",
    "\n",
    "# add three person to phonebook\n",
    "\n",
    "phone_book = []\n",
    "\n",
    "# fields 1) name 2) surname 3) age 4) phone\n",
    "\n",
    "person = []\n",
    "person.append('John')\n",
    "person.append('Smith')\n",
    "person.append('24')\n",
    "person.append('77007777243')\n",
    "\n",
    "phone_book.append(person)\n",
    "\n",
    "person = []\n",
    "person.append('Mike')\n",
    "person.append('Conon')\n",
    "person.append('49')\n",
    "person.append('7777777777')\n",
    "\n",
    "phone_book.append(person)\n",
    "\n",
    "person = ['Ann', 'Mi', '20', '99999999999']\n",
    "\n",
    "phone_book.append(list(person))\n",
    "\n",
    "person[0] = 'Carol'\n",
    "person[1] = 'Woodlyn'\n",
    "person[2] = '18'\n",
    "person[3] = '000000000'\n",
    "\n",
    "phone_book.append(person)\n",
    "\n",
    "phone_book"
   ]
  },
  {
   "cell_type": "markdown",
   "metadata": {},
   "source": [
    "# Минипроект \"Запись в цикле\""
   ]
  },
  {
   "cell_type": "code",
   "execution_count": null,
   "metadata": {},
   "outputs": [],
   "source": [
    "phonebook = []\n",
    "for i in range(0,3):\n",
    "    name = input('enter name ')\n",
    "    surname = input('enter surname ')\n",
    "    age = input('enter age ')\n",
    "    phone = input('enter phone ')\n",
    "    person = [name, surname, age, phone]\n",
    "    phonebook.append(person)\n",
    "    \n",
    "phonebook"
   ]
  },
  {
   "cell_type": "markdown",
   "metadata": {},
   "source": [
    "# Минипроект \"Бесконечный цикл\""
   ]
  },
  {
   "cell_type": "code",
   "execution_count": null,
   "metadata": {},
   "outputs": [],
   "source": [
    "phonebook = []\n",
    "for i in range(0,3000):\n",
    "    name = input('enter name ')\n",
    "    if name == 'end':\n",
    "        break\n",
    "    surname = input('enter surname ')\n",
    "    age = input('enter age ')\n",
    "    phone = input('enter phone ')\n",
    "    person = [name, surname, age, phone]\n",
    "    phonebook.append(person)\n",
    "    \n",
    "phonebook"
   ]
  },
  {
   "cell_type": "markdown",
   "metadata": {},
   "source": [
    "# Минипроект \"Поиск по фамилии\""
   ]
  },
  {
   "cell_type": "code",
   "execution_count": null,
   "metadata": {},
   "outputs": [],
   "source": [
    "phonebook = []\n",
    "for i in range(0,300):\n",
    "    name = input('enter name ')\n",
    "    if name == 'end':\n",
    "        break\n",
    "    surname = input('enter surname ')\n",
    "    age = input('enter age ')\n",
    "    phone = input('enter phone ')\n",
    "    person = {'Name':name, 'Surname':surname, 'Age':age, 'Phone':phone}\n",
    "    phonebook.append(person)\n",
    "\n",
    "surname_to_search = input('enter surname to search ')\n",
    "\n",
    "for pp in phonebook: \n",
    "    if pp['Surname'] == surname_to_search:\n",
    "        message = '{} {} {} {}'.format(pp['Name'],pp['Surname'], pp['Age'], pp['Phone'])\n",
    "        print(message)"
   ]
  },
  {
   "cell_type": "markdown",
   "metadata": {},
   "source": [
    "# Минипроект \"Абсолютное значение\""
   ]
  },
  {
   "cell_type": "code",
   "execution_count": null,
   "metadata": {},
   "outputs": [],
   "source": [
    "def absolute_value(num):\n",
    "    if num >= 0:\n",
    "        return num\n",
    "    else:\n",
    "        return -num\n",
    "\n",
    "# Output: 2\n",
    "print(absolute_value(2))\n",
    "\n",
    "# Output: 4\n",
    "print(absolute_value(-4))"
   ]
  },
  {
   "cell_type": "markdown",
   "metadata": {},
   "source": [
    "# Минипроект \"Розыскиваются\""
   ]
  },
  {
   "cell_type": "code",
   "execution_count": null,
   "metadata": {},
   "outputs": [],
   "source": [
    "import openpyxl\n",
    "from openpyxl import Workbook\n",
    "from openpyxl.compat import range\n",
    "from openpyxl.utils import get_column_letter"
   ]
  },
  {
   "cell_type": "code",
   "execution_count": null,
   "metadata": {},
   "outputs": [],
   "source": [
    "def find_wanted(fname):\n",
    "    wantd_wb = openpyxl.load_workbook(filename = fname)\n",
    "    wanted_ws = wantd_wb['wanted'] \n",
    "    to_check_ws = wantd_wb['to check']\n",
    "    wanted = []\n",
    "    for cell in wanted_ws[1]:\n",
    "        wanted.append(cell.value)\n",
    "        \n",
    "    to_check = []\n",
    "    \n",
    "    for cell in to_check_ws[1]:\n",
    "        to_check.append(cell.value)\n",
    "        \n",
    "    \n",
    "    res_wntd = []\n",
    "    for pp in to_check:\n",
    "        if pp in wanted:\n",
    "            res_wntd.append(pp)\n",
    "\n",
    "            \n",
    "    res_ws = wantd_wb.create_sheet(title = 'result wanted')\n",
    "    res_ws.append(res_wntd)\n",
    "    \n",
    "    wantd_wb.save(filename = fname)\n"
   ]
  },
  {
   "cell_type": "code",
   "execution_count": null,
   "metadata": {},
   "outputs": [],
   "source": [
    "find_wanted('wanted.xlsx')"
   ]
  },
  {
   "cell_type": "code",
   "execution_count": null,
   "metadata": {},
   "outputs": [],
   "source": []
  }
 ],
 "metadata": {
  "kernelspec": {
   "display_name": "Python 3",
   "language": "python",
   "name": "python3"
  },
  "language_info": {
   "codemirror_mode": {
    "name": "ipython",
    "version": 3
   },
   "file_extension": ".py",
   "mimetype": "text/x-python",
   "name": "python",
   "nbconvert_exporter": "python",
   "pygments_lexer": "ipython3",
   "version": "3.7.0"
  }
 },
 "nbformat": 4,
 "nbformat_minor": 2
}
